{
 "cells": [
  {
   "cell_type": "markdown",
   "id": "engaged-message",
   "metadata": {},
   "source": []
  },
  {
   "cell_type": "markdown",
   "id": "2edc347b",
   "metadata": {},
   "source": [
    "# Random Edge Evaluation"
   ]
  },
  {
   "cell_type": "code",
   "execution_count": 1,
   "id": "massive-cliff",
   "metadata": {},
   "outputs": [],
   "source": [
    "import pandas as pd\n",
    "import networkx as nx # documentation at https://networkx.org/documentation/\n",
    "import matplotlib.pyplot as plt\n",
    "from scipy import stats\n",
    "import collections\n"
   ]
  },
  {
   "cell_type": "code",
   "execution_count": 2,
   "id": "protecting-cutting",
   "metadata": {},
   "outputs": [
    {
     "name": "stdout",
     "output_type": "stream",
     "text": [
      "(2312497, 2)\n",
      "(231249, 3)\n"
     ]
    }
   ],
   "source": [
    "# read in original dataset and results from Random Edge (sampled at k=0.1)\n",
    "\n",
    "dataOriginal = pd.read_csv(\"web-Stanford.txt\", sep=\"\\t\")\n",
    "print(dataOriginal.shape)\n",
    "\n",
    "dataRE = pd.read_csv(\"Random_Edge_Output.csv\")\n",
    "print(dataRE.shape)"
   ]
  },
  {
   "cell_type": "code",
   "execution_count": 3,
   "id": "comparative-variation",
   "metadata": {},
   "outputs": [
    {
     "data": {
      "text/html": [
       "<div>\n",
       "<style scoped>\n",
       "    .dataframe tbody tr th:only-of-type {\n",
       "        vertical-align: middle;\n",
       "    }\n",
       "\n",
       "    .dataframe tbody tr th {\n",
       "        vertical-align: top;\n",
       "    }\n",
       "\n",
       "    .dataframe thead th {\n",
       "        text-align: right;\n",
       "    }\n",
       "</style>\n",
       "<table border=\"1\" class=\"dataframe\">\n",
       "  <thead>\n",
       "    <tr style=\"text-align: right;\">\n",
       "      <th></th>\n",
       "      <th>Unnamed: 0</th>\n",
       "      <th>FromNode</th>\n",
       "      <th>ToNode</th>\n",
       "    </tr>\n",
       "  </thead>\n",
       "  <tbody>\n",
       "    <tr>\n",
       "      <th>0</th>\n",
       "      <td>1106494</td>\n",
       "      <td>38194</td>\n",
       "      <td>34573</td>\n",
       "    </tr>\n",
       "    <tr>\n",
       "      <th>1</th>\n",
       "      <td>917528</td>\n",
       "      <td>253227</td>\n",
       "      <td>183862</td>\n",
       "    </tr>\n",
       "    <tr>\n",
       "      <th>2</th>\n",
       "      <td>1735707</td>\n",
       "      <td>134268</td>\n",
       "      <td>265957</td>\n",
       "    </tr>\n",
       "    <tr>\n",
       "      <th>3</th>\n",
       "      <td>1189018</td>\n",
       "      <td>126750</td>\n",
       "      <td>43843</td>\n",
       "    </tr>\n",
       "    <tr>\n",
       "      <th>4</th>\n",
       "      <td>1951112</td>\n",
       "      <td>142185</td>\n",
       "      <td>215730</td>\n",
       "    </tr>\n",
       "    <tr>\n",
       "      <th>...</th>\n",
       "      <td>...</td>\n",
       "      <td>...</td>\n",
       "      <td>...</td>\n",
       "    </tr>\n",
       "    <tr>\n",
       "      <th>231244</th>\n",
       "      <td>1881687</td>\n",
       "      <td>226897</td>\n",
       "      <td>261616</td>\n",
       "    </tr>\n",
       "    <tr>\n",
       "      <th>231245</th>\n",
       "      <td>1456095</td>\n",
       "      <td>68300</td>\n",
       "      <td>222332</td>\n",
       "    </tr>\n",
       "    <tr>\n",
       "      <th>231246</th>\n",
       "      <td>599113</td>\n",
       "      <td>60754</td>\n",
       "      <td>52796</td>\n",
       "    </tr>\n",
       "    <tr>\n",
       "      <th>231247</th>\n",
       "      <td>310791</td>\n",
       "      <td>115140</td>\n",
       "      <td>259094</td>\n",
       "    </tr>\n",
       "    <tr>\n",
       "      <th>231248</th>\n",
       "      <td>90700</td>\n",
       "      <td>23902</td>\n",
       "      <td>59682</td>\n",
       "    </tr>\n",
       "  </tbody>\n",
       "</table>\n",
       "<p>231249 rows × 3 columns</p>\n",
       "</div>"
      ],
      "text/plain": [
       "        Unnamed: 0  FromNode  ToNode\n",
       "0          1106494     38194   34573\n",
       "1           917528    253227  183862\n",
       "2          1735707    134268  265957\n",
       "3          1189018    126750   43843\n",
       "4          1951112    142185  215730\n",
       "...            ...       ...     ...\n",
       "231244     1881687    226897  261616\n",
       "231245     1456095     68300  222332\n",
       "231246      599113     60754   52796\n",
       "231247      310791    115140  259094\n",
       "231248       90700     23902   59682\n",
       "\n",
       "[231249 rows x 3 columns]"
      ]
     },
     "execution_count": 3,
     "metadata": {},
     "output_type": "execute_result"
    }
   ],
   "source": [
    "# dataRE"
   ]
  },
  {
   "cell_type": "markdown",
   "id": "failing-clark",
   "metadata": {},
   "source": [
    "Goals, calculate D-stat for:\n",
    "\n",
    "1. in-degree,\n",
    "2. out-degree,\n",
    "3. dist of weakly-connected components (WCC),\n",
    "4. dist of strongly connected components,\n",
    "5. hop plot,\n",
    "6. hop plot on WCC,\n",
    "7. dis of clustering coeff"
   ]
  },
  {
   "cell_type": "markdown",
   "id": "original-davis",
   "metadata": {},
   "source": [
    "### 1. in-degree\n",
    "\n",
    "count total number of connections into a given node"
   ]
  },
  {
   "cell_type": "code",
   "execution_count": 56,
   "id": "imported-optimization",
   "metadata": {},
   "outputs": [],
   "source": [
    "in_degree_OG = dataOriginal.groupby(\"ToNode\").count()[\"FromNode\"]\n",
    "in_degree_RE = dataRE.groupby(\"ToNode\").count()[\"FromNode\"]"
   ]
  },
  {
   "cell_type": "code",
   "execution_count": 59,
   "id": "unknown-hormone",
   "metadata": {},
   "outputs": [
    {
     "data": {
      "text/plain": [
       "KstestResult(statistic=0.4013765154865598, pvalue=0.0)"
      ]
     },
     "execution_count": 59,
     "metadata": {},
     "output_type": "execute_result"
    }
   ],
   "source": [
    "# ks_2samp returns test statistic D, the maximum vertical distance between the 2 eCDFs of the samples as used in the paper\n",
    "# scipy ks_2samp https://docs.scipy.org/doc/scipy/reference/generated/scipy.stats.ks_2samp.html\n",
    "\n",
    "stats.ks_2samp(in_degree_OG, in_degree_RE)"
   ]
  },
  {
   "cell_type": "markdown",
   "id": "italian-philip",
   "metadata": {},
   "source": [
    "### 2. out-degree\n",
    "\n",
    "count total number of connections coming out of a given node"
   ]
  },
  {
   "cell_type": "code",
   "execution_count": 58,
   "id": "latter-knock",
   "metadata": {},
   "outputs": [],
   "source": [
    "out_degree_OG = dataOriginal.groupby(\"FromNode\").count()[\"ToNode\"]\n",
    "out_degree_RE = dataRE.groupby(\"FromNode\").count()[\"ToNode\"]"
   ]
  },
  {
   "cell_type": "code",
   "execution_count": 60,
   "id": "expected-township",
   "metadata": {},
   "outputs": [
    {
     "data": {
      "text/plain": [
       "KstestResult(statistic=0.6563402611877971, pvalue=0.0)"
      ]
     },
     "execution_count": 60,
     "metadata": {},
     "output_type": "execute_result"
    }
   ],
   "source": [
    "stats.ks_2samp(out_degree_OG, out_degree_RE)"
   ]
  },
  {
   "cell_type": "markdown",
   "id": "authentic-mustang",
   "metadata": {},
   "source": [
    "### 3. WCC \n",
    "\n",
    "The distribution of sizes of weakly connected components (“wcc”): a set of nodes is weakly connected if for any pair of nodes u and v there exists an undirected path from u to v."
   ]
  },
  {
   "cell_type": "code",
   "execution_count": 83,
   "id": "compact-oasis",
   "metadata": {},
   "outputs": [],
   "source": [
    "# create directed graphs\n",
    "\n",
    "G_Original = nx.DiGraph()\n",
    "G_Original = nx.from_pandas_edgelist(dataOriginal, \"FromNode\", \"ToNode\", create_using=nx.DiGraph())\n",
    "\n",
    "G_RE = nx.DiGraph()\n",
    "G_RE = nx.from_pandas_edgelist(dataRE, \"FromNode\", \"ToNode\", create_using=nx.DiGraph())"
   ]
  },
  {
   "cell_type": "code",
   "execution_count": 84,
   "id": "forty-rebound",
   "metadata": {},
   "outputs": [],
   "source": [
    "# use WCC method from networkx https://networkx.org/documentation/stable/reference/algorithms/generated/networkx.algorithms.components.weakly_connected_components.html#networkx.algorithms.components.weakly_connected_components\n",
    "\n",
    "wcc_OG = nx.weakly_connected_components(G_Original)\n",
    "wcc_sizes_OG = collections.Counter([len(wcc) for wcc in wcc_OG]).keys()\n",
    "\n",
    "wcc_RE = nx.weakly_connected_components(G_RE)\n",
    "wcc_sizes_RE = collections.Counter([len(wcc) for wcc in wcc_RE]).keys()"
   ]
  },
  {
   "cell_type": "code",
   "execution_count": 89,
   "id": "tested-hospital",
   "metadata": {},
   "outputs": [
    {
     "data": {
      "text/plain": [
       "KstestResult(statistic=0.17651612903225805, pvalue=0.02292064878272837)"
      ]
     },
     "execution_count": 89,
     "metadata": {},
     "output_type": "execute_result"
    }
   ],
   "source": [
    "stats.ks_2samp(list(wcc_sizes_OG), list(wcc_sizes_RE))"
   ]
  },
  {
   "cell_type": "markdown",
   "id": "christian-pipeline",
   "metadata": {},
   "source": [
    "### 4. SCC\n",
    "The distribution of sizes of strongly connected components (“scc”): a set of nodes is strongly connected, if for any pair of nodes u and v, there exists a directed path from u to v and from v to u"
   ]
  },
  {
   "cell_type": "code",
   "execution_count": 93,
   "id": "based-glenn",
   "metadata": {},
   "outputs": [],
   "source": [
    "# use SCC method from networkx https://networkx.org/documentation/stable/reference/algorithms/generated/networkx.algorithms.components.strongly_connected_components.html#networkx.algorithms.components.strongly_connected_components\n",
    "\n",
    "scc_OG = nx.strongly_connected_components(G_Original)\n",
    "scc_sizes_OG = collections.Counter([len(wcc) for wcc in scc_OG]).keys()\n",
    "\n",
    "scc_RE = nx.strongly_connected_components(G_RE)\n",
    "scc_sizes_RE = collections.Counter([len(wcc) for wcc in scc_RE]).keys()"
   ]
  },
  {
   "cell_type": "code",
   "execution_count": 92,
   "id": "equivalent-lafayette",
   "metadata": {},
   "outputs": [
    {
     "data": {
      "text/plain": [
       "KstestResult(statistic=0.96, pvalue=1.9602208745084226e-11)"
      ]
     },
     "execution_count": 92,
     "metadata": {},
     "output_type": "execute_result"
    }
   ],
   "source": [
    "stats.ks_2samp(list(scc_sizes_OG), list(scc_sizes_RE))"
   ]
  },
  {
   "cell_type": "markdown",
   "id": "stuck-capacity",
   "metadata": {},
   "source": [
    "### 5. hop plot\n",
    "Hop-plot: the number P(h) of reachable pairs of nodes at distance h or less; h is the number of hops"
   ]
  },
  {
   "cell_type": "markdown",
   "id": "fiscal-stockholm",
   "metadata": {},
   "source": [
    "## Code Scrapbook\n"
   ]
  },
  {
   "cell_type": "code",
   "execution_count": null,
   "id": "established-train",
   "metadata": {},
   "outputs": [],
   "source": [
    "# # create graph objects\n",
    "\n",
    "# G_Original = nx.DiGraph()\n",
    "# G_Original = nx.from_pandas_edgelist(dataOriginal, \"FromNode\", \"ToNode\")\n",
    "\n",
    "# G_RE = nx.DiGraph()\n",
    "# G_RE = nx.from_pandas_edgelist(dataRE, \"FromNode\", \"ToNode\")\n",
    "\n",
    "# use networkx degree attribute https://networkx.org/documentation/stable/reference/generated/networkx.classes.function.degree.html#networkx.classes.function.degree\n",
    "\n",
    "# degree_OG = [deg for node, deg in nx.degree(G_Original)] # .degree returns [node, degree]\n",
    "# degree_RE = [deg for node, deg in nx.degree(G_RE)]\n"
   ]
  },
  {
   "cell_type": "code",
   "execution_count": null,
   "id": "august-incidence",
   "metadata": {},
   "outputs": [],
   "source": [
    "# # plot WCC\n",
    "# # https://www.programcreek.com/python/example/120125/networkx.weakly_connected_components\n",
    "\n",
    "# size_seq = sorted(wcc_sizes_RE.keys())\n",
    "# size_hist = [wcc_sizes_RE[x] for x in size_seq]\n",
    "\n",
    "# plt.figure(figsize=(16, 12))\n",
    "# plt.clf()\n",
    "# plt.loglog(size_seq, size_hist, 'ro-')\n",
    "# plt.title(\"WCC Size Distribution\")\n",
    "# plt.xlabel(\"Size\")\n",
    "# plt.ylabel(\"Number of WCCs\")\n",
    "# plt.show()"
   ]
  },
  {
   "cell_type": "markdown",
   "id": "befeafd8",
   "metadata": {},
   "source": [
    "# Random Node Evaluation"
   ]
  },
  {
   "cell_type": "code",
   "execution_count": 2,
   "id": "03fc4bc2",
   "metadata": {},
   "outputs": [
    {
     "name": "stdout",
     "output_type": "stream",
     "text": [
      "(2312497, 2)\n",
      "(18706, 2)\n"
     ]
    }
   ],
   "source": [
    "dataOriginal = pd.read_csv(\"web-Stanford.txt\", sep=\"\\t\")\n",
    "print(dataOriginal.shape)\n",
    "\n",
    "dataRN = pd.read_csv(\"outputRN.csv\")\n",
    "print(dataRN.shape)"
   ]
  },
  {
   "cell_type": "code",
   "execution_count": 3,
   "id": "ecc87768",
   "metadata": {},
   "outputs": [
    {
     "data": {
      "text/html": [
       "<div>\n",
       "<style scoped>\n",
       "    .dataframe tbody tr th:only-of-type {\n",
       "        vertical-align: middle;\n",
       "    }\n",
       "\n",
       "    .dataframe tbody tr th {\n",
       "        vertical-align: top;\n",
       "    }\n",
       "\n",
       "    .dataframe thead th {\n",
       "        text-align: right;\n",
       "    }\n",
       "</style>\n",
       "<table border=\"1\" class=\"dataframe\">\n",
       "  <thead>\n",
       "    <tr style=\"text-align: right;\">\n",
       "      <th></th>\n",
       "      <th>FromNode</th>\n",
       "      <th>ToNode</th>\n",
       "    </tr>\n",
       "  </thead>\n",
       "  <tbody>\n",
       "    <tr>\n",
       "      <th>0</th>\n",
       "      <td>119003</td>\n",
       "      <td>121796</td>\n",
       "    </tr>\n",
       "    <tr>\n",
       "      <th>1</th>\n",
       "      <td>66729</td>\n",
       "      <td>54398</td>\n",
       "    </tr>\n",
       "    <tr>\n",
       "      <th>2</th>\n",
       "      <td>66729</td>\n",
       "      <td>87630</td>\n",
       "    </tr>\n",
       "    <tr>\n",
       "      <th>3</th>\n",
       "      <td>66729</td>\n",
       "      <td>141601</td>\n",
       "    </tr>\n",
       "    <tr>\n",
       "      <th>4</th>\n",
       "      <td>190468</td>\n",
       "      <td>249067</td>\n",
       "    </tr>\n",
       "    <tr>\n",
       "      <th>...</th>\n",
       "      <td>...</td>\n",
       "      <td>...</td>\n",
       "    </tr>\n",
       "    <tr>\n",
       "      <th>18701</th>\n",
       "      <td>60036</td>\n",
       "      <td>145888</td>\n",
       "    </tr>\n",
       "    <tr>\n",
       "      <th>18702</th>\n",
       "      <td>182955</td>\n",
       "      <td>65185</td>\n",
       "    </tr>\n",
       "    <tr>\n",
       "      <th>18703</th>\n",
       "      <td>65644</td>\n",
       "      <td>1796</td>\n",
       "    </tr>\n",
       "    <tr>\n",
       "      <th>18704</th>\n",
       "      <td>65644</td>\n",
       "      <td>49882</td>\n",
       "    </tr>\n",
       "    <tr>\n",
       "      <th>18705</th>\n",
       "      <td>65644</td>\n",
       "      <td>271224</td>\n",
       "    </tr>\n",
       "  </tbody>\n",
       "</table>\n",
       "<p>18706 rows × 2 columns</p>\n",
       "</div>"
      ],
      "text/plain": [
       "       FromNode  ToNode\n",
       "0        119003  121796\n",
       "1         66729   54398\n",
       "2         66729   87630\n",
       "3         66729  141601\n",
       "4        190468  249067\n",
       "...         ...     ...\n",
       "18701     60036  145888\n",
       "18702    182955   65185\n",
       "18703     65644    1796\n",
       "18704     65644   49882\n",
       "18705     65644  271224\n",
       "\n",
       "[18706 rows x 2 columns]"
      ]
     },
     "execution_count": 3,
     "metadata": {},
     "output_type": "execute_result"
    }
   ],
   "source": [
    "dataRN"
   ]
  },
  {
   "cell_type": "markdown",
   "id": "86cc9056",
   "metadata": {},
   "source": [
    "### 1. in-degree"
   ]
  },
  {
   "cell_type": "code",
   "execution_count": 4,
   "id": "cabb21f2",
   "metadata": {},
   "outputs": [
    {
     "data": {
      "text/plain": [
       "KstestResult(statistic=0.43565487972594835, pvalue=0.0)"
      ]
     },
     "execution_count": 4,
     "metadata": {},
     "output_type": "execute_result"
    }
   ],
   "source": [
    "in_degree_OG = dataOriginal.groupby(\"ToNode\").count()[\"FromNode\"]\n",
    "in_degree_RN = dataRN.groupby(\"ToNode\").count()[\"FromNode\"]\n",
    "\n",
    "stats.ks_2samp(in_degree_OG, in_degree_RN)"
   ]
  },
  {
   "cell_type": "markdown",
   "id": "bf210a92",
   "metadata": {},
   "source": [
    "### 2. out-degree"
   ]
  },
  {
   "cell_type": "code",
   "execution_count": 5,
   "id": "6b047e80",
   "metadata": {},
   "outputs": [
    {
     "data": {
      "text/plain": [
       "KstestResult(statistic=0.5680649139639238, pvalue=0.0)"
      ]
     },
     "execution_count": 5,
     "metadata": {},
     "output_type": "execute_result"
    }
   ],
   "source": [
    "out_degree_OG = dataOriginal.groupby(\"FromNode\").count()[\"ToNode\"]\n",
    "out_degree_RN = dataRN.groupby(\"FromNode\").count()[\"ToNode\"]\n",
    "\n",
    "stats.ks_2samp(out_degree_OG, out_degree_RN)"
   ]
  },
  {
   "cell_type": "markdown",
   "id": "11f586f7",
   "metadata": {},
   "source": [
    "### 3. WCC"
   ]
  },
  {
   "cell_type": "code",
   "execution_count": 7,
   "id": "a5736fe1",
   "metadata": {},
   "outputs": [],
   "source": [
    "# create directed graphs\n",
    "\n",
    "G_Original = nx.DiGraph()\n",
    "G_Original = nx.from_pandas_edgelist(dataOriginal, \"FromNode\", \"ToNode\", create_using=nx.DiGraph())\n",
    "\n",
    "G_RN = nx.DiGraph()\n",
    "G_RN = nx.from_pandas_edgelist(dataRN, \"FromNode\", \"ToNode\", create_using=nx.DiGraph())"
   ]
  },
  {
   "cell_type": "code",
   "execution_count": 8,
   "id": "1b335c57",
   "metadata": {},
   "outputs": [],
   "source": [
    "wcc_OG = nx.weakly_connected_components(G_Original)\n",
    "wcc_sizes_OG = collections.Counter([len(wcc) for wcc in wcc_OG]).keys()\n",
    "\n",
    "wcc_RN = nx.weakly_connected_components(G_RN)\n",
    "wcc_sizes_RN = collections.Counter([len(wcc) for wcc in wcc_RN]).keys()"
   ]
  },
  {
   "cell_type": "code",
   "execution_count": 9,
   "id": "a813ae45",
   "metadata": {},
   "outputs": [
    {
     "data": {
      "text/plain": [
       "KstestResult(statistic=0.428, pvalue=2.269659137854596e-06)"
      ]
     },
     "execution_count": 9,
     "metadata": {},
     "output_type": "execute_result"
    }
   ],
   "source": [
    "stats.ks_2samp(list(wcc_sizes_OG), list(wcc_sizes_RN))"
   ]
  },
  {
   "cell_type": "markdown",
   "id": "ca03ae5f",
   "metadata": {},
   "source": [
    "### 4. SCC"
   ]
  },
  {
   "cell_type": "code",
   "execution_count": 10,
   "id": "a02fe12b",
   "metadata": {},
   "outputs": [],
   "source": [
    "scc_OG = nx.strongly_connected_components(G_Original)\n",
    "scc_sizes_OG = collections.Counter([len(wcc) for wcc in scc_OG]).keys()\n",
    "\n",
    "scc_RN = nx.strongly_connected_components(G_RN)\n",
    "scc_sizes_RN = collections.Counter([len(wcc) for wcc in scc_RN]).keys()"
   ]
  },
  {
   "cell_type": "code",
   "execution_count": 11,
   "id": "be9d59d1",
   "metadata": {},
   "outputs": [
    {
     "data": {
      "text/plain": [
       "KstestResult(statistic=0.847843137254902, pvalue=6.514788708500419e-13)"
      ]
     },
     "execution_count": 11,
     "metadata": {},
     "output_type": "execute_result"
    }
   ],
   "source": [
    "stats.ks_2samp(list(scc_sizes_OG), list(scc_sizes_RN))"
   ]
  },
  {
   "cell_type": "markdown",
   "id": "57c0f6ff",
   "metadata": {},
   "source": [
    "# Summary"
   ]
  },
  {
   "cell_type": "code",
   "execution_count": 12,
   "id": "c8f6a444",
   "metadata": {},
   "outputs": [],
   "source": [
    "d_values = [ (0.401, 0.656, 0.177, 0.960) ,\n",
    "             (0.436, 0.568, 0.428, 0.848) ]\n",
    "dfSum = pd.DataFrame(d_values, columns = ['in-degree' , 'out-degree', 'WCC' , 'SCC'], \n",
    "                     index=['RE', 'RN'])"
   ]
  },
  {
   "cell_type": "code",
   "execution_count": 13,
   "id": "f4d886f1",
   "metadata": {},
   "outputs": [
    {
     "data": {
      "text/html": [
       "<div>\n",
       "<style scoped>\n",
       "    .dataframe tbody tr th:only-of-type {\n",
       "        vertical-align: middle;\n",
       "    }\n",
       "\n",
       "    .dataframe tbody tr th {\n",
       "        vertical-align: top;\n",
       "    }\n",
       "\n",
       "    .dataframe thead th {\n",
       "        text-align: right;\n",
       "    }\n",
       "</style>\n",
       "<table border=\"1\" class=\"dataframe\">\n",
       "  <thead>\n",
       "    <tr style=\"text-align: right;\">\n",
       "      <th></th>\n",
       "      <th>in-degree</th>\n",
       "      <th>out-degree</th>\n",
       "      <th>WCC</th>\n",
       "      <th>SCC</th>\n",
       "    </tr>\n",
       "  </thead>\n",
       "  <tbody>\n",
       "    <tr>\n",
       "      <th>RE</th>\n",
       "      <td>0.401</td>\n",
       "      <td>0.656</td>\n",
       "      <td>0.177</td>\n",
       "      <td>0.960</td>\n",
       "    </tr>\n",
       "    <tr>\n",
       "      <th>RN</th>\n",
       "      <td>0.436</td>\n",
       "      <td>0.568</td>\n",
       "      <td>0.428</td>\n",
       "      <td>0.848</td>\n",
       "    </tr>\n",
       "  </tbody>\n",
       "</table>\n",
       "</div>"
      ],
      "text/plain": [
       "    in-degree  out-degree    WCC    SCC\n",
       "RE      0.401       0.656  0.177  0.960\n",
       "RN      0.436       0.568  0.428  0.848"
      ]
     },
     "execution_count": 13,
     "metadata": {},
     "output_type": "execute_result"
    }
   ],
   "source": [
    "dfSum"
   ]
  }
 ],
 "metadata": {
  "kernelspec": {
   "display_name": "Python 3",
   "language": "python",
   "name": "python3"
  },
  "language_info": {
   "codemirror_mode": {
    "name": "ipython",
    "version": 3
   },
   "file_extension": ".py",
   "mimetype": "text/x-python",
   "name": "python",
   "nbconvert_exporter": "python",
   "pygments_lexer": "ipython3",
   "version": "3.7.10"
  }
 },
 "nbformat": 4,
 "nbformat_minor": 5
}
